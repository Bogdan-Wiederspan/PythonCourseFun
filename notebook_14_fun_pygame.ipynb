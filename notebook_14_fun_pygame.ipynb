{
 "cells": [
  {
   "cell_type": "markdown",
   "metadata": {},
   "source": [
    "# 14. Fun\n",
    "In this notebook we want to create a game using [pygame](https://www.pygame.org/news).\n",
    "The documentation can be found [here](https://www.pygame.org/docs/).\n",
    "\n",
    "Pygame is a cross-platform set of Python modules designed for writing video games. It includes computer graphics and sound libraries designed to be used with the Python programming language. \n",
    "\n",
    "We want to learn the basics of pygame and create a simple game called [\"Breakout\"](https://de.wikipedia.org/wiki/Breakout_(Computerspiel)). This game was created by Atari Inc. and introduced on May 13, 1976. It was conceptualized by Nolan Bushnell and Steve Bristow, influenced by the 1972 Atari arcade game Pong, and built by Steve Wozniak.\n",
    "\n",
    "See a [video](https://www.youtube.com/watch?v=AMUv8KvVt08) about the game to grasp the concept.\n",
    "\n",
    "\n",
    "Before we learn the basics about pygame we need to install it. \n",
    "We can not use jupyter notebooks this time because of the limitated support for pygame. Instead we will now use a python script to create the game.\n",
    "\n",
    "This notebook is split into Pygame basics and the Breakout game."
   ]
  },
  {
   "cell_type": "markdown",
   "metadata": {},
   "source": [
    "## pygame installation:\n",
    "First install pygame with pip (pip stands for \"Pip Installs Packages\" or \"Pip Installs Python\". I know funny (it's not).):\n",
    "\n",
    "```bash\n",
    "pip install pygame --user\n",
    "```\n",
    "Create a python script called `game.py` and add the following code:\n",
    "\n",
    "```python\n",
    "import pygame\n",
    "pygame.init()\n",
    "```\n",
    "Running this code `python3 game.py` will print: `Hello from the pygame community. https://www.pygame.org/contribute.html`. \n",
    "Meaning you are ready to go.\n",
    "\n"
   ]
  },
  {
   "cell_type": "markdown",
   "metadata": {},
   "source": [
    "## How structure pygame code:\n",
    "\n",
    "There are not many rules on how to structure your code when creating a game with pygame. There is no rule to follow, a game can be structured in many different ways.\n",
    "But they have some common elements: \n",
    "1. Initialization, where you set up the game, load images, set the game window and set up global variables.\n",
    "2. Game logic, you define the rules of the game.\n",
    "3. Game loop, where you update the game state and draw the game state to the screen.\n",
    "4. Event handling, where you handle user input."
   ]
  },
  {
   "cell_type": "markdown",
   "metadata": {},
   "source": [
    "### Initialization:\n",
    "To init pygame you one uses the `pygame.init()` function. This function will initialize all the modules required for Pygame.\n",
    "```python\n",
    "import pygame\n",
    "# you can also init things like the font module alone pygame.font.init()\n",
    "pygame.init()\n",
    "```\n",
    "One typically also sets up the game window and loads images and sounds in the initialization phase.\n",
    "```python\n",
    "# set up the drawing window\n",
    "HEIGHT, WIDTH = 500, 500\n",
    "# create the windows and diplay it\n",
    "screen = pygame.display.set_mode([HEIGHT, WIDTH])\n",
    "# set the window name\n",
    "pygame.display.set_caption(\"Break Out\")\n",
    "```\n",
    "It is also a good idea to define some global CONSTANTS for the game, like colors you want to use or screen dimensions, or global scores and so on. \n",
    "```python\n",
    "# color codes we intend to use\n",
    "WHITE = (255, 255, 255)\n",
    "RED = (255, 0, 0)\n",
    "BLACK = (0, 0, 0)\n",
    "BLUE = (0, 0, 255)\n",
    "ORA = (255, 165, 0)\n",
    "LIGHT_BLUE = (173, 216, 230)\n",
    "GREEN = (0, 255, 0)\n",
    "# max frames per second\n",
    "FPS = 60\n",
    "```\n",
    "Typically this is also the time to create a clock object to control the frame rate of the game.\n",
    "```python\n",
    "clock = pygame.time.Clock()\n",
    "```"
   ]
  },
  {
   "cell_type": "markdown",
   "metadata": {},
   "source": [
    "### Game logic our paddle:\n",
    "Game programming is very object-oriented. You will have classes for the player, the enemies, the bullets, the power-ups, and so on.\n",
    "\n",
    "Breakout is a simple game. It has a ball, a paddle, and bricks. So we will create classes for each of these objects.\n",
    "\n",
    "Lets start with the paddle. The paddle is a rectangle that moves left and right. It can be controlled by the player using the left and right arrow keys.\n",
    "\n",
    "Create a file called `paddle.py` and create a paddle class inside, which\n",
    "initi method should take the following parameters:\n",
    "- `def __init__(self, x, y, color, *, width=50, height=20,speed=5 ):` to initialize the paddle\n",
    "  - location\n",
    "  - dimension\n",
    "  - speed\n",
    "  - color (we want to use red)\n",
    "  - its body as a rectangle (rectangle are easy to handle)"
   ]
  },
  {
   "cell_type": "code",
   "execution_count": null,
   "metadata": {},
   "outputs": [],
   "source": [
    "  import pygame\n",
    "\n",
    "  class Paddle:\n",
    "    def __init__(self, x, y, color, *, width=50, height=20,speed=5 ):\n",
    "        self.x = x\n",
    "        self.y = y\n",
    "        self.width = width\n",
    "        self.height = height\n",
    "        self.color = color\n",
    "        self.rect = pygame.Rect(x, y, width, height)\n",
    "        self.speed = 5"
   ]
  },
  {
   "cell_type": "markdown",
   "metadata": {},
   "source": [
    "We want to move our paddle thus a move method is needed:\n",
    "- `move(self):`\n",
    "  - get user input via [`pygame.key.get_pressed()`](https://www.pygame.org/docs/ref/key.html) \n",
    "  - move the paddle to left if left arrow key is pressed (`pygame.K_LEFT`) and so on\n",
    "  - adjust the paddles location accordingly. Keys have a boolean value if they are pressed or not. Left and Right arrow keys are used to move the paddle.\n",
    "  - add a boundary check so the paddle does not move out of the screen."
   ]
  },
  {
   "cell_type": "code",
   "execution_count": null,
   "metadata": {},
   "outputs": [],
   "source": [
    "    def move(self):\n",
    "        # get the pressed keys\n",
    "        keys = pygame.key.get_pressed()\n",
    "        # check which key is pressed AND\n",
    "        # make sure the paddle does not go out of bounds\n",
    "        if keys[pygame.K_LEFT] and self.rect.left > 0:\n",
    "            # when at the left edge, the x coordinate is 0 return back by speed\n",
    "            self.rect.x -= self.speed\n",
    "        if keys[pygame.K_RIGHT] and self.rect.right < WIDTH:\n",
    "            self.rect.x += self.speed"
   ]
  },
  {
   "cell_type": "markdown",
   "metadata": {},
   "source": [
    "We also need a method to draw our paddle on the screen. Currenty we have only all attributes that define rectangle, but not the rectangle itself.\n",
    "\n",
    "- `draw(self, screen):`\n",
    "  o draw the paddle on the screen\n",
    "  - well its a rectangle [`pygame.draw`](https://www.pygame.org/docs/ref/draw.html)\n",
    "- \n",
    "- `draw(self)` t\n",
    "- `collide(self)` to check if the paddle collides with the ball\n",
    "  - check if the ball hits the paddle\n"
   ]
  },
  {
   "cell_type": "code",
   "execution_count": null,
   "metadata": {},
   "outputs": [],
   "source": [
    "    def draw(self):\n",
    "        # rectangles are easy to draw in pygame\n",
    "        # just need the screen, color and rect object\n",
    "        pygame.draw.rect(screen, self.color, self.rect)"
   ]
  },
  {
   "cell_type": "markdown",
   "metadata": {},
   "source": [
    "#### Game loop:\n",
    "The game loop is the heart of the game. It is where the game state is updated and the game state is drawn to the screen. The game loop typically looks like this:\n",
    "```python\n",
    "running = True\n",
    "while running:\n",
    "    # handle events (user input)\n",
    "    for event in pygame.event.get():\n",
    "        # quit if the quit button is pressed\n",
    "        if event.type == pygame.QUIT:\n",
    "            running = False\n",
    "    \n",
    "    # update the game state\n",
    "    # draw the game state to the screen\n",
    "    pygame.display.flip()\n",
    "\n",
    "    # limit frames per second\n",
    "    clock.tick(FPS)\n",
    "```"
   ]
  }
 ],
 "metadata": {
  "language_info": {
   "name": "python"
  }
 },
 "nbformat": 4,
 "nbformat_minor": 2
}
